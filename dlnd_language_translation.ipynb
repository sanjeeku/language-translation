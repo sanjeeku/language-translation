{
 "cells": [
  {
   "cell_type": "markdown",
   "metadata": {
    "collapsed": true
   },
   "source": [
    "# Language Translation\n",
    "In this project, you’re going to take a peek into the realm of neural network machine translation.  You’ll be training a sequence to sequence model on a dataset of English and French sentences that can translate new sentences from English to French.\n",
    "## Get the Data\n",
    "Since translating the whole language of English to French will take lots of time to train, we have provided you with a small portion of the English corpus."
   ]
  },
  {
   "cell_type": "code",
   "execution_count": null,
   "metadata": {
    "collapsed": true
   },
   "outputs": [],
   "source": [
    "\"\"\"\n",
    "DON'T MODIFY ANYTHING IN THIS CELL\n",
    "\"\"\"\n",
    "import helper\n",
    "import problem_unittests as tests\n",
    "\n",
    "source_path = 'data/small_vocab_en'\n",
    "target_path = 'data/small_vocab_fr'\n",
    "source_text = helper.load_data(source_path)\n",
    "target_text = helper.load_data(target_path)"
   ]
  },
  {
   "cell_type": "markdown",
   "metadata": {},
   "source": [
    "## Explore the Data\n",
    "Play around with view_sentence_range to view different parts of the data."
   ]
  },
  {
   "cell_type": "code",
   "execution_count": null,
   "metadata": {},
   "outputs": [],
   "source": [
    "view_sentence_range = (0, 10)\n",
    "\n",
    "\"\"\"\n",
    "DON'T MODIFY ANYTHING IN THIS CELL\n",
    "\"\"\"\n",
    "import numpy as np\n",
    "\n",
    "print('Dataset Stats')\n",
    "print('Roughly the number of unique words: {}'.format(len({word: None for word in source_text.split()})))\n",
    "\n",
    "sentences = source_text.split('\\n')\n",
    "word_counts = [len(sentence.split()) for sentence in sentences]\n",
    "print('Number of sentences: {}'.format(len(sentences)))\n",
    "print('Average number of words in a sentence: {}'.format(np.average(word_counts)))\n",
    "\n",
    "print()\n",
    "print('English sentences {} to {}:'.format(*view_sentence_range))\n",
    "print('\\n'.join(source_text.split('\\n')[view_sentence_range[0]:view_sentence_range[1]]))\n",
    "print()\n",
    "print('French sentences {} to {}:'.format(*view_sentence_range))\n",
    "print('\\n'.join(target_text.split('\\n')[view_sentence_range[0]:view_sentence_range[1]]))"
   ]
  },
  {
   "cell_type": "markdown",
   "metadata": {},
   "source": [
    "## Implement Preprocessing Function\n",
    "### Text to Word Ids\n",
    "As you did with other RNNs, you must turn the text into a number so the computer can understand it. In the function `text_to_ids()`, you'll turn `source_text` and `target_text` from words to ids.  However, you need to add the `<EOS>` word id at the end of `target_text`.  This will help the neural network predict when the sentence should end.\n",
    "\n",
    "You can get the `<EOS>` word id by doing:\n",
    "```python\n",
    "target_vocab_to_int['<EOS>']\n",
    "```\n",
    "You can get other word ids using `source_vocab_to_int` and `target_vocab_to_int`."
   ]
  },
  {
   "cell_type": "code",
   "execution_count": null,
   "metadata": {},
   "outputs": [],
   "source": [
    "def text_to_ids(source_text, target_text, source_vocab_to_int, target_vocab_to_int):\n",
    "    \"\"\"\n",
    "    Convert source and target text to proper word ids\n",
    "    :param source_text: String that contains all the source text.\n",
    "    :param target_text: String that contains all the target text.\n",
    "    :param source_vocab_to_int: Dictionary to go from the source words to an id\n",
    "    :param target_vocab_to_int: Dictionary to go from the target words to an id\n",
    "    :return: A tuple of lists (source_id_text, target_id_text)\n",
    "    \"\"\"\n",
    "    # TODO: Implement Function\n",
    "    source_unk = source_vocab_to_int['<UNK>']\n",
    "    target_unk = source_vocab_to_int['<UNK>']\n",
    "    eos = target_vocab_to_int['<EOS>']\n",
    "    source_id_text = [[source_vocab_to_int.get(word,source_unk) for word in sent.split()] for sent in source_text.split('\\n')]\n",
    "    target_id_text = [[target_vocab_to_int.get(word,target_unk) for word in sent.split()] + [eos] for sent in target_text.split('\\n')]\n",
    "    return source_id_text, target_id_text\n",
    "\n",
    "\"\"\"\n",
    "DON'T MODIFY ANYTHING IN THIS CELL THAT IS BELOW THIS LINE\n",
    "\"\"\"\n",
    "tests.test_text_to_ids(text_to_ids)"
   ]
  },
  {
   "cell_type": "markdown",
   "metadata": {},
   "source": [
    "### Preprocess all the data and save it\n",
    "Running the code cell below will preprocess all the data and save it to file."
   ]
  },
  {
   "cell_type": "code",
   "execution_count": null,
   "metadata": {
    "collapsed": true
   },
   "outputs": [],
   "source": [
    "\"\"\"\n",
    "DON'T MODIFY ANYTHING IN THIS CELL\n",
    "\"\"\"\n",
    "helper.preprocess_and_save_data(source_path, target_path, text_to_ids)"
   ]
  },
  {
   "cell_type": "markdown",
   "metadata": {},
   "source": [
    "# Check Point\n",
    "This is your first checkpoint. If you ever decide to come back to this notebook or have to restart the notebook, you can start from here. The preprocessed data has been saved to disk."
   ]
  },
  {
   "cell_type": "code",
   "execution_count": 1,
   "metadata": {
    "collapsed": true
   },
   "outputs": [],
   "source": [
    "\"\"\"\n",
    "DON'T MODIFY ANYTHING IN THIS CELL\n",
    "\"\"\"\n",
    "import numpy as np\n",
    "import helper\n",
    "import problem_unittests as tests\n",
    "\n",
    "(source_int_text, target_int_text), (source_vocab_to_int, target_vocab_to_int), _ = helper.load_preprocess()"
   ]
  },
  {
   "cell_type": "markdown",
   "metadata": {},
   "source": [
    "### Check the Version of TensorFlow and Access to GPU\n",
    "This will check to make sure you have the correct version of TensorFlow and access to a GPU"
   ]
  },
  {
   "cell_type": "code",
   "execution_count": 2,
   "metadata": {},
   "outputs": [
    {
     "name": "stdout",
     "output_type": "stream",
     "text": [
      "TensorFlow Version: 1.1.0\n",
      "Default GPU Device: /gpu:0\n"
     ]
    }
   ],
   "source": [
    "\"\"\"\n",
    "DON'T MODIFY ANYTHING IN THIS CELL\n",
    "\"\"\"\n",
    "from distutils.version import LooseVersion\n",
    "import warnings\n",
    "import tensorflow as tf\n",
    "from tensorflow.python.layers.core import Dense\n",
    "\n",
    "# Check TensorFlow Version\n",
    "assert LooseVersion(tf.__version__) >= LooseVersion('1.1'), 'Please use TensorFlow version 1.1 or newer'\n",
    "print('TensorFlow Version: {}'.format(tf.__version__))\n",
    "\n",
    "# Check for a GPU\n",
    "if not tf.test.gpu_device_name():\n",
    "    warnings.warn('No GPU found. Please use a GPU to train your neural network.')\n",
    "else:\n",
    "    print('Default GPU Device: {}'.format(tf.test.gpu_device_name()))"
   ]
  },
  {
   "cell_type": "markdown",
   "metadata": {},
   "source": [
    "## Build the Neural Network\n",
    "You'll build the components necessary to build a Sequence-to-Sequence model by implementing the following functions below:\n",
    "- `model_inputs`\n",
    "- `process_decoder_input`\n",
    "- `encoding_layer`\n",
    "- `decoding_layer_train`\n",
    "- `decoding_layer_infer`\n",
    "- `decoding_layer`\n",
    "- `seq2seq_model`\n",
    "\n",
    "### Input\n",
    "Implement the `model_inputs()` function to create TF Placeholders for the Neural Network. It should create the following placeholders:\n",
    "\n",
    "- Input text placeholder named \"input\" using the TF Placeholder name parameter with rank 2.\n",
    "- Targets placeholder with rank 2.\n",
    "- Learning rate placeholder with rank 0.\n",
    "- Keep probability placeholder named \"keep_prob\" using the TF Placeholder name parameter with rank 0.\n",
    "- Target sequence length placeholder named \"target_sequence_length\" with rank 1\n",
    "- Max target sequence length tensor named \"max_target_len\" getting its value from applying tf.reduce_max on the target_sequence_length placeholder. Rank 0.\n",
    "- Source sequence length placeholder named \"source_sequence_length\" with rank 1\n",
    "\n",
    "Return the placeholders in the following the tuple (input, targets, learning rate, keep probability, target sequence length, max target sequence length, source sequence length)"
   ]
  },
  {
   "cell_type": "code",
   "execution_count": 3,
   "metadata": {},
   "outputs": [
    {
     "name": "stdout",
     "output_type": "stream",
     "text": [
      "Tests Passed\n"
     ]
    }
   ],
   "source": [
    "def model_inputs():\n",
    "    \"\"\"\n",
    "    Create TF Placeholders for input, targets, learning rate, and lengths of source and target sequences.\n",
    "    :return: Tuple (input, targets, learning rate, keep probability, target sequence length,\n",
    "    max target sequence length, source sequence length)\n",
    "    \"\"\"\n",
    "    # TODO: Implement Function\n",
    "    inputs = tf.placeholder(tf.int32,[None,None],name='input')\n",
    "    targets = tf.placeholder(tf.int32,[None,None],name='target')\n",
    "    lr = tf.placeholder(tf.float32,name='learning_rate')\n",
    "    keep_prob = tf.placeholder(tf.float32,name='keep_prob')\n",
    "    \n",
    "    target_sequence_length = tf.placeholder(tf.int32,shape=[None],name='target_sequence_length')\n",
    "    max_target_len = tf.reduce_max(target_sequence_length)\n",
    "    source_sequence_length = tf.placeholder(tf.int32,shape=[None],name='source_sequence_length')\n",
    "    \n",
    "    return inputs,targets,lr,keep_prob,target_sequence_length,max_target_len,source_sequence_length\n",
    "\n",
    "\n",
    "\"\"\"\n",
    "DON'T MODIFY ANYTHING IN THIS CELL THAT IS BELOW THIS LINE\n",
    "\"\"\"\n",
    "tests.test_model_inputs(model_inputs)"
   ]
  },
  {
   "cell_type": "markdown",
   "metadata": {},
   "source": [
    "### Process Decoder Input\n",
    "Implement `process_decoder_input` by removing the last word id from each batch in `target_data` and concat the GO ID to the begining of each batch."
   ]
  },
  {
   "cell_type": "code",
   "execution_count": 4,
   "metadata": {},
   "outputs": [
    {
     "name": "stdout",
     "output_type": "stream",
     "text": [
      "Tests Passed\n"
     ]
    }
   ],
   "source": [
    "def process_decoder_input(target_data, target_vocab_to_int, batch_size):\n",
    "    \"\"\"\n",
    "    Preprocess target data for encoding\n",
    "    :param target_data: Target Placehoder\n",
    "    :param target_vocab_to_int: Dictionary to go from the target words to an id\n",
    "    :param batch_size: Batch Size\n",
    "    :return: Preprocessed target data\n",
    "    \"\"\"\n",
    "    # TODO: Implement Function\n",
    "    truncated = tf.strided_slice(target_data,(0,0),(batch_size,-1),(1,1))\n",
    "    go = target_vocab_to_int['<GO>']\n",
    "    processed = tf.concat([tf.fill((batch_size,1),go), truncated], 1)\n",
    "    return processed\n",
    "\n",
    "\"\"\"\n",
    "DON'T MODIFY ANYTHING IN THIS CELL THAT IS BELOW THIS LINE\n",
    "\"\"\"\n",
    "tests.test_process_encoding_input(process_decoder_input)"
   ]
  },
  {
   "cell_type": "markdown",
   "metadata": {},
   "source": [
    "### Encoding\n",
    "Implement `encoding_layer()` to create a Encoder RNN layer:\n",
    " * Embed the encoder input using [`tf.contrib.layers.embed_sequence`](https://www.tensorflow.org/api_docs/python/tf/contrib/layers/embed_sequence)\n",
    " * Construct a [stacked](https://github.com/tensorflow/tensorflow/blob/6947f65a374ebf29e74bb71e36fd82760056d82c/tensorflow/docs_src/tutorials/recurrent.md#stacking-multiple-lstms) [`tf.contrib.rnn.LSTMCell`](https://www.tensorflow.org/api_docs/python/tf/contrib/rnn/LSTMCell) wrapped in a [`tf.contrib.rnn.DropoutWrapper`](https://www.tensorflow.org/api_docs/python/tf/contrib/rnn/DropoutWrapper)\n",
    " * Pass cell and embedded input to [`tf.nn.dynamic_rnn()`](https://www.tensorflow.org/api_docs/python/tf/nn/dynamic_rnn)"
   ]
  },
  {
   "cell_type": "code",
   "execution_count": 5,
   "metadata": {
    "scrolled": false
   },
   "outputs": [
    {
     "name": "stdout",
     "output_type": "stream",
     "text": [
      "Tests Passed\n"
     ]
    }
   ],
   "source": [
    "from imp import reload\n",
    "import math\n",
    "reload(tests)\n",
    "\n",
    "def encoding_layer(rnn_inputs, rnn_size, num_layers, keep_prob, \n",
    "                   source_sequence_length, source_vocab_size, \n",
    "                   encoding_embedding_size):\n",
    "    \"\"\"\n",
    "    Create encoding layer\n",
    "    :param rnn_inputs: Inputs for the RNN\n",
    "    :param rnn_size: RNN Size\n",
    "    :param num_layers: Number of layers\n",
    "    :param keep_prob: Dropout keep probability\n",
    "    :param source_sequence_length: a list of the lengths of each sequence in the batch\n",
    "    :param source_vocab_size: vocabulary size of source data\n",
    "    :param encoding_embedding_size: embedding size of source data\n",
    "    :return: tuple (RNN output, RNN state)\n",
    "    \"\"\"\n",
    "    # TODO: Implement Function\n",
    "    enc_inputs = tf.contrib.layers.embed_sequence(rnn_inputs,vocab_size=source_vocab_size,embed_dim=encoding_embedding_size)\n",
    "    \n",
    "    def create_rnn(rnn_size):\n",
    "        cell = tf.contrib.rnn.LSTMCell(rnn_size, initializer=tf.truncated_normal_initializer(mean=0.0,stddev=1.0/math.sqrt(encoding_embedding_size)))\n",
    "        drop = tf.contrib.rnn.DropoutWrapper(cell,output_keep_prob=keep_prob)\n",
    "        return drop\n",
    "    \n",
    "    enc = tf.contrib.rnn.MultiRNNCell([create_rnn(rnn_size) for _ in range(num_layers)])\n",
    "    outputs, state = tf.nn.dynamic_rnn(enc,enc_inputs,source_sequence_length,dtype=tf.float32)\n",
    "    \n",
    "    return outputs, state\n",
    "\n",
    "\"\"\"\n",
    "DON'T MODIFY ANYTHING IN THIS CELL THAT IS BELOW THIS LINE\n",
    "\"\"\"\n",
    "tests.test_encoding_layer(encoding_layer)"
   ]
  },
  {
   "cell_type": "markdown",
   "metadata": {},
   "source": [
    "### Decoding - Training\n",
    "Create a training decoding layer:\n",
    "* Create a [`tf.contrib.seq2seq.TrainingHelper`](https://www.tensorflow.org/api_docs/python/tf/contrib/seq2seq/TrainingHelper) \n",
    "* Create a [`tf.contrib.seq2seq.BasicDecoder`](https://www.tensorflow.org/api_docs/python/tf/contrib/seq2seq/BasicDecoder)\n",
    "* Obtain the decoder outputs from [`tf.contrib.seq2seq.dynamic_decode`](https://www.tensorflow.org/api_docs/python/tf/contrib/seq2seq/dynamic_decode)"
   ]
  },
  {
   "cell_type": "code",
   "execution_count": 6,
   "metadata": {},
   "outputs": [
    {
     "name": "stdout",
     "output_type": "stream",
     "text": [
      "Tests Passed\n"
     ]
    }
   ],
   "source": [
    "\n",
    "def decoding_layer_train(encoder_state, dec_cell, dec_embed_input, \n",
    "                         target_sequence_length, max_summary_length, \n",
    "                         output_layer, keep_prob):\n",
    "    \"\"\"\n",
    "    Create a decoding layer for training\n",
    "    :param encoder_state: Encoder State\n",
    "    :param dec_cell: Decoder RNN Cell\n",
    "    :param dec_embed_input: Decoder embedded input\n",
    "    :param target_sequence_length: The lengths of each sequence in the target batch\n",
    "    :param max_summary_length: The length of the longest sequence in the batch\n",
    "    :param output_layer: Function to apply the output layer\n",
    "    :param keep_prob: Dropout keep probability\n",
    "    :return: BasicDecoderOutput containing training logits and sample_id\n",
    "    \"\"\"\n",
    "    # TODO: Implement Function\n",
    "    helper = tf.contrib.seq2seq.TrainingHelper(dec_embed_input,target_sequence_length)\n",
    "    decoder = tf.contrib.seq2seq.BasicDecoder(dec_cell,helper,encoder_state,output_layer)\n",
    "    final_outputs, _ = tf.contrib.seq2seq.dynamic_decode(decoder,impute_finished=True,maximum_iterations=max_summary_length)\n",
    "    \n",
    "    return final_outputs\n",
    "\n",
    "\n",
    "\n",
    "\"\"\"\n",
    "DON'T MODIFY ANYTHING IN THIS CELL THAT IS BELOW THIS LINE\n",
    "\"\"\"\n",
    "tests.test_decoding_layer_train(decoding_layer_train)"
   ]
  },
  {
   "cell_type": "markdown",
   "metadata": {},
   "source": [
    "### Decoding - Inference\n",
    "Create inference decoder:\n",
    "* Create a [`tf.contrib.seq2seq.GreedyEmbeddingHelper`](https://www.tensorflow.org/api_docs/python/tf/contrib/seq2seq/GreedyEmbeddingHelper)\n",
    "* Create a [`tf.contrib.seq2seq.BasicDecoder`](https://www.tensorflow.org/api_docs/python/tf/contrib/seq2seq/BasicDecoder)\n",
    "* Obtain the decoder outputs from [`tf.contrib.seq2seq.dynamic_decode`](https://www.tensorflow.org/api_docs/python/tf/contrib/seq2seq/dynamic_decode)"
   ]
  },
  {
   "cell_type": "code",
   "execution_count": 7,
   "metadata": {
    "scrolled": true
   },
   "outputs": [
    {
     "name": "stdout",
     "output_type": "stream",
     "text": [
      "Tests Passed\n"
     ]
    }
   ],
   "source": [
    "def decoding_layer_infer(encoder_state, dec_cell, dec_embeddings, start_of_sequence_id,\n",
    "                         end_of_sequence_id, max_target_sequence_length,\n",
    "                         vocab_size, output_layer, batch_size, keep_prob):\n",
    "    \"\"\"\n",
    "    Create a decoding layer for inference\n",
    "    :param encoder_state: Encoder state\n",
    "    :param dec_cell: Decoder RNN Cell\n",
    "    :param dec_embeddings: Decoder embeddings\n",
    "    :param start_of_sequence_id: GO ID\n",
    "    :param end_of_sequence_id: EOS Id\n",
    "    :param max_target_sequence_length: Maximum length of target sequences\n",
    "    :param vocab_size: Size of decoder/target vocabulary\n",
    "    :param decoding_scope: TenorFlow Variable Scope for decoding\n",
    "    :param output_layer: Function to apply the output layer\n",
    "    :param batch_size: Batch size\n",
    "    :param keep_prob: Dropout keep probability\n",
    "    :return: BasicDecoderOutput containing inference logits and sample_id\n",
    "    \"\"\"\n",
    "    # TODO: Implement Function\n",
    "    start_tokens = tf.fill([batch_size],start_of_sequence_id)\n",
    "    helper =  tf.contrib.seq2seq.GreedyEmbeddingHelper(dec_embeddings,start_tokens,end_of_sequence_id)\n",
    "    decoder = tf.contrib.seq2seq.BasicDecoder(dec_cell,helper,encoder_state,output_layer)\n",
    "    final_outputs, _ = tf.contrib.seq2seq.dynamic_decode(decoder,impute_finished=True,maximum_iterations=max_target_sequence_length)\n",
    "    \n",
    "    return final_outputs\n",
    "\n",
    "\n",
    "\n",
    "\"\"\"\n",
    "DON'T MODIFY ANYTHING IN THIS CELL THAT IS BELOW THIS LINE\n",
    "\"\"\"\n",
    "tests.test_decoding_layer_infer(decoding_layer_infer)"
   ]
  },
  {
   "cell_type": "markdown",
   "metadata": {},
   "source": [
    "### Build the Decoding Layer\n",
    "Implement `decoding_layer()` to create a Decoder RNN layer.\n",
    "\n",
    "* Embed the target sequences\n",
    "* Construct the decoder LSTM cell (just like you constructed the encoder cell above)\n",
    "* Create an output layer to map the outputs of the decoder to the elements of our vocabulary\n",
    "* Use the your `decoding_layer_train(encoder_state, dec_cell, dec_embed_input, target_sequence_length, max_target_sequence_length, output_layer, keep_prob)` function to get the training logits.\n",
    "* Use your `decoding_layer_infer(encoder_state, dec_cell, dec_embeddings, start_of_sequence_id, end_of_sequence_id, max_target_sequence_length, vocab_size, output_layer, batch_size, keep_prob)` function to get the inference logits.\n",
    "\n",
    "Note: You'll need to use [tf.variable_scope](https://www.tensorflow.org/api_docs/python/tf/variable_scope) to share variables between training and inference."
   ]
  },
  {
   "cell_type": "code",
   "execution_count": 8,
   "metadata": {},
   "outputs": [
    {
     "name": "stdout",
     "output_type": "stream",
     "text": [
      "Tests Passed\n"
     ]
    }
   ],
   "source": [
    "from tensorflow.python.layers.core import Dense\n",
    "\n",
    "def decoding_layer(dec_input, encoder_state,\n",
    "                   target_sequence_length, max_target_sequence_length,\n",
    "                   rnn_size,\n",
    "                   num_layers, target_vocab_to_int, target_vocab_size,\n",
    "                   batch_size, keep_prob, decoding_embedding_size):\n",
    "    \"\"\"\n",
    "    Create decoding layer\n",
    "    :param dec_input: Decoder input\n",
    "    :param encoder_state: Encoder state\n",
    "    :param target_sequence_length: The lengths of each sequence in the target batch\n",
    "    :param max_target_sequence_length: Maximum length of target sequences\n",
    "    :param rnn_size: RNN Size\n",
    "    :param num_layers: Number of layers\n",
    "    :param target_vocab_to_int: Dictionary to go from the target words to an id\n",
    "    :param target_vocab_size: Size of target vocabulary\n",
    "    :param batch_size: The size of the batch\n",
    "    :param keep_prob: Dropout keep probability\n",
    "    :return: Tuple of (Training BasicDecoderOutput, Inference BasicDecoderOutput)\n",
    "    \"\"\"\n",
    "    # TODO: Implement Function\n",
    "    dec_embeddings = tf.Variable(tf.truncated_normal([target_vocab_size,decoding_embedding_size],stddev=1.0/math.sqrt(target_vocab_size)))\n",
    "    dec_embed_input = tf.nn.embedding_lookup(dec_embeddings,dec_input)\n",
    "    \n",
    "    def create_rnn(rnn_size):\n",
    "        cell = tf.contrib.rnn.LSTMCell(rnn_size, initializer=tf.truncated_normal_initializer(stddev=1.0/math.sqrt(decoding_embedding_size)))\n",
    "        drop = tf.contrib.rnn.DropoutWrapper(cell,output_keep_prob=keep_prob)\n",
    "        return drop\n",
    "    \n",
    "    dec_cell = tf.contrib.rnn.MultiRNNCell([create_rnn(rnn_size) for _ in range(num_layers)])\n",
    "    \n",
    "    output_layer = Dense(target_vocab_size,kernel_initializer=tf.truncated_normal_initializer(stddev=1.0/math.sqrt(decoding_embedding_size)))\n",
    "    \n",
    "    with tf.variable_scope(\"decode\"):\n",
    "        train_outputs = decoding_layer_train(encoder_state, dec_cell, dec_embed_input, \n",
    "                             target_sequence_length, max_target_sequence_length, \n",
    "                             output_layer, keep_prob)\n",
    "    \n",
    "    start_of_sequence_id = target_vocab_to_int['<GO>']\n",
    "    end_of_sequence_id = target_vocab_to_int['<EOS>']\n",
    "    \n",
    "    with tf.variable_scope(\"decode\",reuse=True):\n",
    "        infer_outputs = decoding_layer_infer(encoder_state, dec_cell, dec_embeddings, start_of_sequence_id,\n",
    "                             end_of_sequence_id, max_target_sequence_length,\n",
    "                             target_vocab_size, output_layer, batch_size, keep_prob)\n",
    "    \n",
    "    return train_outputs, infer_outputs\n",
    "\n",
    "\n",
    "\n",
    "\"\"\"\n",
    "DON'T MODIFY ANYTHING IN THIS CELL THAT IS BELOW THIS LINE\n",
    "\"\"\"\n",
    "tests.test_decoding_layer(decoding_layer)"
   ]
  },
  {
   "cell_type": "markdown",
   "metadata": {},
   "source": [
    "### Build the Neural Network\n",
    "Apply the functions you implemented above to:\n",
    "\n",
    "- Apply embedding to the input data for the encoder.\n",
    "- Encode the input using your `encoding_layer(rnn_inputs, rnn_size, num_layers, keep_prob,  source_sequence_length, source_vocab_size, encoding_embedding_size)`.\n",
    "- Process target data using your `process_decoder_input(target_data, target_vocab_to_int, batch_size)` function.\n",
    "- Apply embedding to the target data for the decoder.\n",
    "- Decode the encoded input using your `decoding_layer(dec_input, enc_state, target_sequence_length, max_target_sentence_length, rnn_size, num_layers, target_vocab_to_int, target_vocab_size, batch_size, keep_prob, dec_embedding_size)` function."
   ]
  },
  {
   "cell_type": "code",
   "execution_count": 9,
   "metadata": {},
   "outputs": [
    {
     "name": "stdout",
     "output_type": "stream",
     "text": [
      "Tests Passed\n"
     ]
    }
   ],
   "source": [
    "def seq2seq_model(input_data, target_data, keep_prob, batch_size,\n",
    "                  source_sequence_length, target_sequence_length,\n",
    "                  max_target_sentence_length,\n",
    "                  source_vocab_size, target_vocab_size,\n",
    "                  enc_embedding_size, dec_embedding_size,\n",
    "                  rnn_size, num_layers, target_vocab_to_int):\n",
    "    \"\"\"\n",
    "    Build the Sequence-to-Sequence part of the neural network\n",
    "    :param input_data: Input placeholder\n",
    "    :param target_data: Target placeholder\n",
    "    :param keep_prob: Dropout keep probability placeholder\n",
    "    :param batch_size: Batch Size\n",
    "    :param source_sequence_length: Sequence Lengths of source sequences in the batch\n",
    "    :param target_sequence_length: Sequence Lengths of target sequences in the batch\n",
    "    :param source_vocab_size: Source vocabulary size\n",
    "    :param target_vocab_size: Target vocabulary size\n",
    "    :param enc_embedding_size: Decoder embedding size\n",
    "    :param dec_embedding_size: Encoder embedding size\n",
    "    :param rnn_size: RNN Size\n",
    "    :param num_layers: Number of layers\n",
    "    :param target_vocab_to_int: Dictionary to go from the target words to an id\n",
    "    :return: Tuple of (Training BasicDecoderOutput, Inference BasicDecoderOutput)\n",
    "    \"\"\"\n",
    "    # TODO: Implement Function\n",
    "    \n",
    "    encoder_outputs, encoder_state = \\\n",
    "        encoding_layer(input_data, rnn_size, num_layers, keep_prob, source_sequence_length, source_vocab_size, \n",
    "                   enc_embedding_size)\n",
    "        \n",
    "    dec_input = process_decoder_input(target_data, target_vocab_to_int, batch_size)\n",
    "    \n",
    "    train_outputs, infer_outputs = \\\n",
    "        decoding_layer(dec_input, encoder_state,target_sequence_length, max_target_sentence_length,rnn_size,\n",
    "                   num_layers, target_vocab_to_int, target_vocab_size, batch_size, keep_prob, dec_embedding_size)\n",
    "    \n",
    "    return train_outputs, infer_outputs\n",
    "\n",
    "\n",
    "\"\"\"\n",
    "DON'T MODIFY ANYTHING IN THIS CELL THAT IS BELOW THIS LINE\n",
    "\"\"\"\n",
    "tests.test_seq2seq_model(seq2seq_model)"
   ]
  },
  {
   "cell_type": "markdown",
   "metadata": {},
   "source": [
    "## Neural Network Training\n",
    "### Hyperparameters\n",
    "Tune the following parameters:\n",
    "\n",
    "- Set `epochs` to the number of epochs.\n",
    "- Set `batch_size` to the batch size.\n",
    "- Set `rnn_size` to the size of the RNNs.\n",
    "- Set `num_layers` to the number of layers.\n",
    "- Set `encoding_embedding_size` to the size of the embedding for the encoder.\n",
    "- Set `decoding_embedding_size` to the size of the embedding for the decoder.\n",
    "- Set `learning_rate` to the learning rate.\n",
    "- Set `keep_probability` to the Dropout keep probability\n",
    "- Set `display_step` to state how many steps between each debug output statement"
   ]
  },
  {
   "cell_type": "code",
   "execution_count": 10,
   "metadata": {
    "collapsed": true
   },
   "outputs": [],
   "source": [
    "# Number of Epochs\n",
    "epochs = 10\n",
    "# Batch Size\n",
    "batch_size = 512\n",
    "# RNN Size\n",
    "rnn_size = 512\n",
    "# Number of Layers\n",
    "num_layers = 2\n",
    "# Embedding Size\n",
    "encoding_embedding_size = 300\n",
    "decoding_embedding_size = 300\n",
    "# Learning Rate\n",
    "learning_rate = 0.001\n",
    "# Dropout Keep Probability\n",
    "keep_probability = 0.5\n",
    "display_step = 20"
   ]
  },
  {
   "cell_type": "markdown",
   "metadata": {},
   "source": [
    "### Build the Graph\n",
    "Build the graph using the neural network you implemented."
   ]
  },
  {
   "cell_type": "code",
   "execution_count": 11,
   "metadata": {},
   "outputs": [],
   "source": [
    "\"\"\"\n",
    "DON'T MODIFY ANYTHING IN THIS CELL\n",
    "\"\"\"\n",
    "save_path = 'checkpoints/dev'\n",
    "(source_int_text, target_int_text), (source_vocab_to_int, target_vocab_to_int), _ = helper.load_preprocess()\n",
    "max_target_sentence_length = max([len(sentence) for sentence in source_int_text])\n",
    "\n",
    "train_graph = tf.Graph()\n",
    "with train_graph.as_default():\n",
    "    input_data, targets, lr, keep_prob, target_sequence_length, max_target_sequence_length, source_sequence_length = model_inputs()\n",
    "\n",
    "    #sequence_length = tf.placeholder_with_default(max_target_sentence_length, None, name='sequence_length')\n",
    "    input_shape = tf.shape(input_data)\n",
    "\n",
    "    train_logits, inference_logits = seq2seq_model(tf.reverse(input_data, [-1]),\n",
    "                                                   targets,\n",
    "                                                   keep_prob,\n",
    "                                                   batch_size,\n",
    "                                                   source_sequence_length,\n",
    "                                                   target_sequence_length,\n",
    "                                                   max_target_sequence_length,\n",
    "                                                   len(source_vocab_to_int),\n",
    "                                                   len(target_vocab_to_int),\n",
    "                                                   encoding_embedding_size,\n",
    "                                                   decoding_embedding_size,\n",
    "                                                   rnn_size,\n",
    "                                                   num_layers,\n",
    "                                                   target_vocab_to_int)\n",
    "\n",
    "\n",
    "    training_logits = tf.identity(train_logits.rnn_output, name='logits')\n",
    "    inference_logits = tf.identity(inference_logits.sample_id, name='predictions')\n",
    "\n",
    "    masks = tf.sequence_mask(target_sequence_length, max_target_sequence_length, dtype=tf.float32, name='masks')\n",
    "\n",
    "    with tf.name_scope(\"optimization\"):\n",
    "        # Loss function\n",
    "        cost = tf.contrib.seq2seq.sequence_loss(\n",
    "            training_logits,\n",
    "            targets,\n",
    "            masks)\n",
    "\n",
    "        # Optimizer\n",
    "        optimizer = tf.train.AdamOptimizer(lr)\n",
    "\n",
    "        # Gradient Clipping\n",
    "        gradients = optimizer.compute_gradients(cost)\n",
    "        capped_gradients = [(tf.clip_by_value(grad, -1., 1.), var) for grad, var in gradients if grad is not None]\n",
    "        train_op = optimizer.apply_gradients(capped_gradients)\n"
   ]
  },
  {
   "cell_type": "markdown",
   "metadata": {},
   "source": [
    "Batch and pad the source and target sequences"
   ]
  },
  {
   "cell_type": "code",
   "execution_count": 12,
   "metadata": {
    "collapsed": true
   },
   "outputs": [],
   "source": [
    "\"\"\"\n",
    "DON'T MODIFY ANYTHING IN THIS CELL\n",
    "\"\"\"\n",
    "def pad_sentence_batch(sentence_batch, pad_int):\n",
    "    \"\"\"Pad sentences with <PAD> so that each sentence of a batch has the same length\"\"\"\n",
    "    max_sentence = max([len(sentence) for sentence in sentence_batch])\n",
    "    return [sentence + [pad_int] * (max_sentence - len(sentence)) for sentence in sentence_batch]\n",
    "\n",
    "\n",
    "def get_batches(sources, targets, batch_size, source_pad_int, target_pad_int):\n",
    "    \"\"\"Batch targets, sources, and the lengths of their sentences together\"\"\"\n",
    "    for batch_i in range(0, len(sources)//batch_size):\n",
    "        start_i = batch_i * batch_size\n",
    "\n",
    "        # Slice the right amount for the batch\n",
    "        sources_batch = sources[start_i:start_i + batch_size]\n",
    "        targets_batch = targets[start_i:start_i + batch_size]\n",
    "\n",
    "        # Pad\n",
    "        pad_sources_batch = np.array(pad_sentence_batch(sources_batch, source_pad_int))\n",
    "        pad_targets_batch = np.array(pad_sentence_batch(targets_batch, target_pad_int))\n",
    "\n",
    "        # Need the lengths for the _lengths parameters\n",
    "        pad_targets_lengths = []\n",
    "        for target in pad_targets_batch:\n",
    "            pad_targets_lengths.append(len(target))\n",
    "\n",
    "        pad_source_lengths = []\n",
    "        for source in pad_sources_batch:\n",
    "            pad_source_lengths.append(len(source))\n",
    "\n",
    "        yield pad_sources_batch, pad_targets_batch, pad_source_lengths, pad_targets_lengths\n"
   ]
  },
  {
   "cell_type": "markdown",
   "metadata": {},
   "source": [
    "### Train\n",
    "Train the neural network on the preprocessed data. If you have a hard time getting a good loss, check the forms to see if anyone is having the same problem."
   ]
  },
  {
   "cell_type": "code",
   "execution_count": 13,
   "metadata": {
    "scrolled": true
   },
   "outputs": [
    {
     "name": "stdout",
     "output_type": "stream",
     "text": [
      "Epoch   0 Batch   20/269 - Train Accuracy: 0.3912, Validation Accuracy: 0.4441, Loss: 2.7934\n",
      "Epoch   0 Batch   40/269 - Train Accuracy: 0.4116, Validation Accuracy: 0.4630, Loss: 2.2930\n",
      "Epoch   0 Batch   60/269 - Train Accuracy: 0.4735, Validation Accuracy: 0.4927, Loss: 1.7442\n",
      "Epoch   0 Batch   80/269 - Train Accuracy: 0.4872, Validation Accuracy: 0.5032, Loss: 1.4818\n",
      "Epoch   0 Batch  100/269 - Train Accuracy: 0.5187, Validation Accuracy: 0.5186, Loss: 1.3050\n",
      "Epoch   0 Batch  120/269 - Train Accuracy: 0.4880, Validation Accuracy: 0.5199, Loss: 1.2548\n",
      "Epoch   0 Batch  140/269 - Train Accuracy: 0.5117, Validation Accuracy: 0.5315, Loss: 1.1075\n",
      "Epoch   0 Batch  160/269 - Train Accuracy: 0.5464, Validation Accuracy: 0.5627, Loss: 0.9979\n",
      "Epoch   0 Batch  180/269 - Train Accuracy: 0.5672, Validation Accuracy: 0.5861, Loss: 0.9031\n",
      "Epoch   0 Batch  200/269 - Train Accuracy: 0.5758, Validation Accuracy: 0.5935, Loss: 0.8764\n",
      "Epoch   0 Batch  220/269 - Train Accuracy: 0.6060, Validation Accuracy: 0.6017, Loss: 0.7459\n",
      "Epoch   0 Batch  240/269 - Train Accuracy: 0.6331, Validation Accuracy: 0.6197, Loss: 0.6674\n",
      "Epoch   0 Batch  260/269 - Train Accuracy: 0.5996, Validation Accuracy: 0.6112, Loss: 0.7225\n",
      "Epoch   1 Batch   20/269 - Train Accuracy: 0.6177, Validation Accuracy: 0.6349, Loss: 0.6589\n",
      "Epoch   1 Batch   40/269 - Train Accuracy: 0.6252, Validation Accuracy: 0.6502, Loss: 0.6278\n",
      "Epoch   1 Batch   60/269 - Train Accuracy: 0.6620, Validation Accuracy: 0.6453, Loss: 0.5443\n",
      "Epoch   1 Batch   80/269 - Train Accuracy: 0.6710, Validation Accuracy: 0.6652, Loss: 0.5366\n",
      "Epoch   1 Batch  100/269 - Train Accuracy: 0.6961, Validation Accuracy: 0.6757, Loss: 0.5103\n",
      "Epoch   1 Batch  120/269 - Train Accuracy: 0.6674, Validation Accuracy: 0.6785, Loss: 0.5030\n",
      "Epoch   1 Batch  140/269 - Train Accuracy: 0.6769, Validation Accuracy: 0.6877, Loss: 0.4804\n",
      "Epoch   1 Batch  160/269 - Train Accuracy: 0.7290, Validation Accuracy: 0.7186, Loss: 0.4235\n",
      "Epoch   1 Batch  180/269 - Train Accuracy: 0.7586, Validation Accuracy: 0.7376, Loss: 0.3856\n",
      "Epoch   1 Batch  200/269 - Train Accuracy: 0.7706, Validation Accuracy: 0.7580, Loss: 0.3693\n",
      "Epoch   1 Batch  220/269 - Train Accuracy: 0.8118, Validation Accuracy: 0.7868, Loss: 0.3015\n",
      "Epoch   1 Batch  240/269 - Train Accuracy: 0.8421, Validation Accuracy: 0.8063, Loss: 0.2743\n",
      "Epoch   1 Batch  260/269 - Train Accuracy: 0.8248, Validation Accuracy: 0.8235, Loss: 0.2848\n",
      "Epoch   2 Batch   20/269 - Train Accuracy: 0.8524, Validation Accuracy: 0.8596, Loss: 0.2422\n",
      "Epoch   2 Batch   40/269 - Train Accuracy: 0.8562, Validation Accuracy: 0.8654, Loss: 0.2239\n",
      "Epoch   2 Batch   60/269 - Train Accuracy: 0.8825, Validation Accuracy: 0.8832, Loss: 0.1798\n",
      "Epoch   2 Batch   80/269 - Train Accuracy: 0.8849, Validation Accuracy: 0.8896, Loss: 0.1783\n",
      "Epoch   2 Batch  100/269 - Train Accuracy: 0.8952, Validation Accuracy: 0.8891, Loss: 0.1628\n",
      "Epoch   2 Batch  120/269 - Train Accuracy: 0.9230, Validation Accuracy: 0.9032, Loss: 0.1433\n",
      "Epoch   2 Batch  140/269 - Train Accuracy: 0.9085, Validation Accuracy: 0.9020, Loss: 0.1362\n",
      "Epoch   2 Batch  160/269 - Train Accuracy: 0.9149, Validation Accuracy: 0.9130, Loss: 0.1195\n",
      "Epoch   2 Batch  180/269 - Train Accuracy: 0.9222, Validation Accuracy: 0.9188, Loss: 0.1057\n",
      "Epoch   2 Batch  200/269 - Train Accuracy: 0.9290, Validation Accuracy: 0.9132, Loss: 0.1032\n",
      "Epoch   2 Batch  220/269 - Train Accuracy: 0.9204, Validation Accuracy: 0.9118, Loss: 0.0844\n",
      "Epoch   2 Batch  240/269 - Train Accuracy: 0.9322, Validation Accuracy: 0.9287, Loss: 0.0821\n",
      "Epoch   2 Batch  260/269 - Train Accuracy: 0.9193, Validation Accuracy: 0.9294, Loss: 0.0930\n",
      "Epoch   3 Batch   20/269 - Train Accuracy: 0.9365, Validation Accuracy: 0.9376, Loss: 0.0742\n",
      "Epoch   3 Batch   40/269 - Train Accuracy: 0.9209, Validation Accuracy: 0.9361, Loss: 0.0776\n",
      "Epoch   3 Batch   60/269 - Train Accuracy: 0.9462, Validation Accuracy: 0.9316, Loss: 0.0662\n",
      "Epoch   3 Batch   80/269 - Train Accuracy: 0.9232, Validation Accuracy: 0.9375, Loss: 0.0688\n",
      "Epoch   3 Batch  100/269 - Train Accuracy: 0.9403, Validation Accuracy: 0.9355, Loss: 0.0664\n",
      "Epoch   3 Batch  120/269 - Train Accuracy: 0.9479, Validation Accuracy: 0.9403, Loss: 0.0602\n",
      "Epoch   3 Batch  140/269 - Train Accuracy: 0.9304, Validation Accuracy: 0.9381, Loss: 0.0672\n",
      "Epoch   3 Batch  160/269 - Train Accuracy: 0.9311, Validation Accuracy: 0.9456, Loss: 0.0610\n",
      "Epoch   3 Batch  180/269 - Train Accuracy: 0.9464, Validation Accuracy: 0.9409, Loss: 0.0544\n",
      "Epoch   3 Batch  200/269 - Train Accuracy: 0.9466, Validation Accuracy: 0.9497, Loss: 0.0532\n",
      "Epoch   3 Batch  220/269 - Train Accuracy: 0.9455, Validation Accuracy: 0.9448, Loss: 0.0522\n",
      "Epoch   3 Batch  240/269 - Train Accuracy: 0.9405, Validation Accuracy: 0.9438, Loss: 0.0474\n",
      "Epoch   3 Batch  260/269 - Train Accuracy: 0.9489, Validation Accuracy: 0.9425, Loss: 0.0541\n",
      "Epoch   4 Batch   20/269 - Train Accuracy: 0.9577, Validation Accuracy: 0.9460, Loss: 0.0467\n",
      "Epoch   4 Batch   40/269 - Train Accuracy: 0.9439, Validation Accuracy: 0.9490, Loss: 0.0481\n",
      "Epoch   4 Batch   60/269 - Train Accuracy: 0.9529, Validation Accuracy: 0.9384, Loss: 0.0452\n",
      "Epoch   4 Batch   80/269 - Train Accuracy: 0.9462, Validation Accuracy: 0.9509, Loss: 0.0473\n",
      "Epoch   4 Batch  100/269 - Train Accuracy: 0.9546, Validation Accuracy: 0.9537, Loss: 0.0464\n",
      "Epoch   4 Batch  120/269 - Train Accuracy: 0.9604, Validation Accuracy: 0.9535, Loss: 0.0495\n",
      "Epoch   4 Batch  140/269 - Train Accuracy: 0.9480, Validation Accuracy: 0.9497, Loss: 0.0474\n",
      "Epoch   4 Batch  160/269 - Train Accuracy: 0.9533, Validation Accuracy: 0.9537, Loss: 0.0404\n",
      "Epoch   4 Batch  180/269 - Train Accuracy: 0.9682, Validation Accuracy: 0.9528, Loss: 0.0386\n",
      "Epoch   4 Batch  200/269 - Train Accuracy: 0.9565, Validation Accuracy: 0.9558, Loss: 0.0385\n",
      "Epoch   4 Batch  220/269 - Train Accuracy: 0.9491, Validation Accuracy: 0.9595, Loss: 0.0375\n",
      "Epoch   4 Batch  240/269 - Train Accuracy: 0.9551, Validation Accuracy: 0.9590, Loss: 0.0358\n",
      "Epoch   4 Batch  260/269 - Train Accuracy: 0.9557, Validation Accuracy: 0.9593, Loss: 0.0430\n",
      "Epoch   5 Batch   20/269 - Train Accuracy: 0.9639, Validation Accuracy: 0.9567, Loss: 0.0350\n",
      "Epoch   5 Batch   40/269 - Train Accuracy: 0.9475, Validation Accuracy: 0.9574, Loss: 0.0421\n",
      "Epoch   5 Batch   60/269 - Train Accuracy: 0.9605, Validation Accuracy: 0.9546, Loss: 0.0347\n",
      "Epoch   5 Batch   80/269 - Train Accuracy: 0.9564, Validation Accuracy: 0.9554, Loss: 0.0363\n",
      "Epoch   5 Batch  100/269 - Train Accuracy: 0.9572, Validation Accuracy: 0.9545, Loss: 0.0355\n",
      "Epoch   5 Batch  120/269 - Train Accuracy: 0.9621, Validation Accuracy: 0.9621, Loss: 0.0344\n",
      "Epoch   5 Batch  140/269 - Train Accuracy: 0.9590, Validation Accuracy: 0.9583, Loss: 0.0370\n",
      "Epoch   5 Batch  160/269 - Train Accuracy: 0.9591, Validation Accuracy: 0.9547, Loss: 0.0320\n",
      "Epoch   5 Batch  180/269 - Train Accuracy: 0.9644, Validation Accuracy: 0.9566, Loss: 0.0295\n",
      "Epoch   5 Batch  200/269 - Train Accuracy: 0.9646, Validation Accuracy: 0.9624, Loss: 0.0287\n",
      "Epoch   5 Batch  220/269 - Train Accuracy: 0.9635, Validation Accuracy: 0.9620, Loss: 0.0319\n",
      "Epoch   5 Batch  240/269 - Train Accuracy: 0.9661, Validation Accuracy: 0.9593, Loss: 0.0286\n",
      "Epoch   5 Batch  260/269 - Train Accuracy: 0.9655, Validation Accuracy: 0.9597, Loss: 0.0347\n",
      "Epoch   6 Batch   20/269 - Train Accuracy: 0.9632, Validation Accuracy: 0.9617, Loss: 0.0290\n",
      "Epoch   6 Batch   40/269 - Train Accuracy: 0.9650, Validation Accuracy: 0.9560, Loss: 0.0336\n",
      "Epoch   6 Batch   60/269 - Train Accuracy: 0.9688, Validation Accuracy: 0.9618, Loss: 0.0264\n",
      "Epoch   6 Batch   80/269 - Train Accuracy: 0.9718, Validation Accuracy: 0.9635, Loss: 0.0269\n",
      "Epoch   6 Batch  100/269 - Train Accuracy: 0.9735, Validation Accuracy: 0.9644, Loss: 0.0273\n",
      "Epoch   6 Batch  120/269 - Train Accuracy: 0.9705, Validation Accuracy: 0.9686, Loss: 0.0275\n",
      "Epoch   6 Batch  140/269 - Train Accuracy: 0.9687, Validation Accuracy: 0.9670, Loss: 0.0300\n",
      "Epoch   6 Batch  160/269 - Train Accuracy: 0.9682, Validation Accuracy: 0.9679, Loss: 0.0284\n",
      "Epoch   6 Batch  180/269 - Train Accuracy: 0.9776, Validation Accuracy: 0.9688, Loss: 0.0261\n",
      "Epoch   6 Batch  200/269 - Train Accuracy: 0.9755, Validation Accuracy: 0.9650, Loss: 0.0219\n",
      "Epoch   6 Batch  220/269 - Train Accuracy: 0.9658, Validation Accuracy: 0.9562, Loss: 0.0267\n"
     ]
    },
    {
     "name": "stdout",
     "output_type": "stream",
     "text": [
      "Epoch   6 Batch  240/269 - Train Accuracy: 0.9717, Validation Accuracy: 0.9630, Loss: 0.0240\n",
      "Epoch   6 Batch  260/269 - Train Accuracy: 0.9704, Validation Accuracy: 0.9581, Loss: 0.0275\n",
      "Epoch   7 Batch   20/269 - Train Accuracy: 0.9727, Validation Accuracy: 0.9624, Loss: 0.0211\n",
      "Epoch   7 Batch   40/269 - Train Accuracy: 0.9695, Validation Accuracy: 0.9616, Loss: 0.0282\n",
      "Epoch   7 Batch   60/269 - Train Accuracy: 0.9742, Validation Accuracy: 0.9687, Loss: 0.0218\n",
      "Epoch   7 Batch   80/269 - Train Accuracy: 0.9733, Validation Accuracy: 0.9613, Loss: 0.0238\n",
      "Epoch   7 Batch  100/269 - Train Accuracy: 0.9744, Validation Accuracy: 0.9661, Loss: 0.0262\n",
      "Epoch   7 Batch  120/269 - Train Accuracy: 0.9724, Validation Accuracy: 0.9692, Loss: 0.0207\n",
      "Epoch   7 Batch  140/269 - Train Accuracy: 0.9694, Validation Accuracy: 0.9675, Loss: 0.0275\n",
      "Epoch   7 Batch  160/269 - Train Accuracy: 0.9747, Validation Accuracy: 0.9675, Loss: 0.0222\n",
      "Epoch   7 Batch  180/269 - Train Accuracy: 0.9831, Validation Accuracy: 0.9631, Loss: 0.0212\n",
      "Epoch   7 Batch  200/269 - Train Accuracy: 0.9770, Validation Accuracy: 0.9666, Loss: 0.0202\n",
      "Epoch   7 Batch  220/269 - Train Accuracy: 0.9675, Validation Accuracy: 0.9601, Loss: 0.0295\n",
      "Epoch   7 Batch  240/269 - Train Accuracy: 0.9740, Validation Accuracy: 0.9650, Loss: 0.0285\n",
      "Epoch   7 Batch  260/269 - Train Accuracy: 0.9740, Validation Accuracy: 0.9649, Loss: 0.0261\n",
      "Epoch   8 Batch   20/269 - Train Accuracy: 0.9720, Validation Accuracy: 0.9636, Loss: 0.0210\n",
      "Epoch   8 Batch   40/269 - Train Accuracy: 0.9766, Validation Accuracy: 0.9640, Loss: 0.0234\n",
      "Epoch   8 Batch   60/269 - Train Accuracy: 0.9787, Validation Accuracy: 0.9713, Loss: 0.0203\n",
      "Epoch   8 Batch   80/269 - Train Accuracy: 0.9812, Validation Accuracy: 0.9637, Loss: 0.0215\n",
      "Epoch   8 Batch  100/269 - Train Accuracy: 0.9742, Validation Accuracy: 0.9657, Loss: 0.0222\n",
      "Epoch   8 Batch  120/269 - Train Accuracy: 0.9782, Validation Accuracy: 0.9657, Loss: 0.0218\n",
      "Epoch   8 Batch  140/269 - Train Accuracy: 0.9820, Validation Accuracy: 0.9702, Loss: 0.0201\n",
      "Epoch   8 Batch  160/269 - Train Accuracy: 0.9778, Validation Accuracy: 0.9676, Loss: 0.0193\n",
      "Epoch   8 Batch  180/269 - Train Accuracy: 0.9798, Validation Accuracy: 0.9727, Loss: 0.0168\n",
      "Epoch   8 Batch  200/269 - Train Accuracy: 0.9839, Validation Accuracy: 0.9739, Loss: 0.0162\n",
      "Epoch   8 Batch  220/269 - Train Accuracy: 0.9694, Validation Accuracy: 0.9663, Loss: 0.0186\n",
      "Epoch   8 Batch  240/269 - Train Accuracy: 0.9727, Validation Accuracy: 0.9680, Loss: 0.0165\n",
      "Epoch   8 Batch  260/269 - Train Accuracy: 0.9787, Validation Accuracy: 0.9702, Loss: 0.0209\n",
      "Epoch   9 Batch   20/269 - Train Accuracy: 0.9812, Validation Accuracy: 0.9789, Loss: 0.0202\n",
      "Epoch   9 Batch   40/269 - Train Accuracy: 0.9813, Validation Accuracy: 0.9678, Loss: 0.0221\n",
      "Epoch   9 Batch   60/269 - Train Accuracy: 0.9775, Validation Accuracy: 0.9715, Loss: 0.0170\n",
      "Epoch   9 Batch   80/269 - Train Accuracy: 0.9811, Validation Accuracy: 0.9704, Loss: 0.0192\n",
      "Epoch   9 Batch  100/269 - Train Accuracy: 0.9753, Validation Accuracy: 0.9763, Loss: 0.0201\n",
      "Epoch   9 Batch  120/269 - Train Accuracy: 0.9805, Validation Accuracy: 0.9728, Loss: 0.0190\n",
      "Epoch   9 Batch  140/269 - Train Accuracy: 0.9764, Validation Accuracy: 0.9710, Loss: 0.0193\n",
      "Epoch   9 Batch  160/269 - Train Accuracy: 0.9836, Validation Accuracy: 0.9727, Loss: 0.0183\n",
      "Epoch   9 Batch  180/269 - Train Accuracy: 0.9846, Validation Accuracy: 0.9723, Loss: 0.0152\n",
      "Epoch   9 Batch  200/269 - Train Accuracy: 0.9902, Validation Accuracy: 0.9749, Loss: 0.0138\n",
      "Epoch   9 Batch  220/269 - Train Accuracy: 0.9720, Validation Accuracy: 0.9661, Loss: 0.0180\n",
      "Epoch   9 Batch  240/269 - Train Accuracy: 0.9821, Validation Accuracy: 0.9730, Loss: 0.0156\n",
      "Epoch   9 Batch  260/269 - Train Accuracy: 0.9822, Validation Accuracy: 0.9766, Loss: 0.0164\n",
      "Model Trained and Saved\n"
     ]
    }
   ],
   "source": [
    "\"\"\"\n",
    "DON'T MODIFY ANYTHING IN THIS CELL\n",
    "\"\"\"\n",
    "def get_accuracy(target, logits):\n",
    "    \"\"\"\n",
    "    Calculate accuracy\n",
    "    \"\"\"\n",
    "    max_seq = max(target.shape[1], logits.shape[1])\n",
    "    if max_seq - target.shape[1]:\n",
    "        target = np.pad(\n",
    "            target,\n",
    "            [(0,0),(0,max_seq - target.shape[1])],\n",
    "            'constant')\n",
    "    if max_seq - logits.shape[1]:\n",
    "        logits = np.pad(\n",
    "            logits,\n",
    "            [(0,0),(0,max_seq - logits.shape[1])],\n",
    "            'constant')\n",
    "\n",
    "    return np.mean(np.equal(target, logits))\n",
    "\n",
    "# Split data to training and validation sets\n",
    "train_source = source_int_text[batch_size:]\n",
    "train_target = target_int_text[batch_size:]\n",
    "valid_source = source_int_text[:batch_size]\n",
    "valid_target = target_int_text[:batch_size]\n",
    "(valid_sources_batch, valid_targets_batch, valid_sources_lengths, valid_targets_lengths ) = next(get_batches(valid_source,\n",
    "                                                                                                             valid_target,\n",
    "                                                                                                             batch_size,\n",
    "                                                                                                             source_vocab_to_int['<PAD>'],\n",
    "                                                                                                             target_vocab_to_int['<PAD>']))                                                                                                  \n",
    "with tf.Session(graph=train_graph) as sess:\n",
    "    sess.run(tf.global_variables_initializer())\n",
    "\n",
    "    for epoch_i in range(epochs):\n",
    "        for batch_i, (source_batch, target_batch, sources_lengths, targets_lengths) in enumerate(\n",
    "                get_batches(train_source, train_target, batch_size,\n",
    "                            source_vocab_to_int['<PAD>'],\n",
    "                            target_vocab_to_int['<PAD>'])):\n",
    "\n",
    "            _, loss = sess.run(\n",
    "                [train_op, cost],\n",
    "                {input_data: source_batch,\n",
    "                 targets: target_batch,\n",
    "                 lr: learning_rate,\n",
    "                 target_sequence_length: targets_lengths,\n",
    "                 source_sequence_length: sources_lengths,\n",
    "                 keep_prob: keep_probability})\n",
    "\n",
    "\n",
    "            if batch_i % display_step == 0 and batch_i > 0:\n",
    "\n",
    "\n",
    "                batch_train_logits = sess.run(\n",
    "                    inference_logits,\n",
    "                    {input_data: source_batch,\n",
    "                     source_sequence_length: sources_lengths,\n",
    "                     target_sequence_length: targets_lengths,\n",
    "                     keep_prob: 1.0})\n",
    "\n",
    "\n",
    "                batch_valid_logits = sess.run(\n",
    "                    inference_logits,\n",
    "                    {input_data: valid_sources_batch,\n",
    "                     source_sequence_length: valid_sources_lengths,\n",
    "                     target_sequence_length: valid_targets_lengths,\n",
    "                     keep_prob: 1.0})\n",
    "\n",
    "                train_acc = get_accuracy(target_batch, batch_train_logits)\n",
    "\n",
    "                valid_acc = get_accuracy(valid_targets_batch, batch_valid_logits)\n",
    "\n",
    "                print('Epoch {:>3} Batch {:>4}/{} - Train Accuracy: {:>6.4f}, Validation Accuracy: {:>6.4f}, Loss: {:>6.4f}'\n",
    "                      .format(epoch_i, batch_i, len(source_int_text) // batch_size, train_acc, valid_acc, loss))\n",
    "\n",
    "    # Save Model\n",
    "    saver = tf.train.Saver()\n",
    "    saver.save(sess, save_path)\n",
    "    print('Model Trained and Saved')"
   ]
  },
  {
   "cell_type": "markdown",
   "metadata": {},
   "source": [
    "### Save Parameters\n",
    "Save the `batch_size` and `save_path` parameters for inference."
   ]
  },
  {
   "cell_type": "code",
   "execution_count": 14,
   "metadata": {
    "collapsed": true
   },
   "outputs": [],
   "source": [
    "\"\"\"\n",
    "DON'T MODIFY ANYTHING IN THIS CELL\n",
    "\"\"\"\n",
    "# Save parameters for checkpoint\n",
    "helper.save_params(save_path)"
   ]
  },
  {
   "cell_type": "markdown",
   "metadata": {},
   "source": [
    "# Checkpoint"
   ]
  },
  {
   "cell_type": "code",
   "execution_count": 15,
   "metadata": {
    "collapsed": true
   },
   "outputs": [],
   "source": [
    "\"\"\"\n",
    "DON'T MODIFY ANYTHING IN THIS CELL\n",
    "\"\"\"\n",
    "import tensorflow as tf\n",
    "import numpy as np\n",
    "import helper\n",
    "import problem_unittests as tests\n",
    "\n",
    "_, (source_vocab_to_int, target_vocab_to_int), (source_int_to_vocab, target_int_to_vocab) = helper.load_preprocess()\n",
    "load_path = helper.load_params()"
   ]
  },
  {
   "cell_type": "markdown",
   "metadata": {},
   "source": [
    "## Sentence to Sequence\n",
    "To feed a sentence into the model for translation, you first need to preprocess it.  Implement the function `sentence_to_seq()` to preprocess new sentences.\n",
    "\n",
    "- Convert the sentence to lowercase\n",
    "- Convert words into ids using `vocab_to_int`\n",
    " - Convert words not in the vocabulary, to the `<UNK>` word id."
   ]
  },
  {
   "cell_type": "code",
   "execution_count": 17,
   "metadata": {},
   "outputs": [
    {
     "name": "stdout",
     "output_type": "stream",
     "text": [
      "Tests Passed\n"
     ]
    }
   ],
   "source": [
    "def sentence_to_seq(sentence, vocab_to_int):\n",
    "    \"\"\"\n",
    "    Convert a sentence to a sequence of ids\n",
    "    :param sentence: String\n",
    "    :param vocab_to_int: Dictionary to go from the words to an id\n",
    "    :return: List of word ids\n",
    "    \"\"\"\n",
    "    # TODO: Implement Function\n",
    "    unk = vocab_to_int['<UNK>']\n",
    "    sent_ids = [vocab_to_int.get(word,unk) for word in sentence.lower().split()]\n",
    "    return sent_ids\n",
    "\n",
    "\n",
    "\"\"\"\n",
    "DON'T MODIFY ANYTHING IN THIS CELL THAT IS BELOW THIS LINE\n",
    "\"\"\"\n",
    "tests.test_sentence_to_seq(sentence_to_seq)"
   ]
  },
  {
   "cell_type": "markdown",
   "metadata": {},
   "source": [
    "## Translate\n",
    "This will translate `translate_sentence` from English to French."
   ]
  },
  {
   "cell_type": "code",
   "execution_count": 18,
   "metadata": {},
   "outputs": [
    {
     "name": "stdout",
     "output_type": "stream",
     "text": [
      "INFO:tensorflow:Restoring parameters from checkpoints/dev\n",
      "Input\n",
      "  Word Ids:      [214, 87, 136, 213, 131, 220, 186]\n",
      "  English Words: ['he', 'saw', 'a', 'old', 'yellow', 'truck', '.']\n",
      "\n",
      "Prediction\n",
      "  Word Ids:      [313, 325, 125, 51, 206, 316, 225, 77, 1]\n",
      "  French Words: il a vu le vieux camion jaune . <EOS>\n"
     ]
    }
   ],
   "source": [
    "translate_sentence = 'he saw a old yellow truck .'\n",
    "\n",
    "\n",
    "\"\"\"\n",
    "DON'T MODIFY ANYTHING IN THIS CELL\n",
    "\"\"\"\n",
    "translate_sentence = sentence_to_seq(translate_sentence, source_vocab_to_int)\n",
    "\n",
    "loaded_graph = tf.Graph()\n",
    "with tf.Session(graph=loaded_graph) as sess:\n",
    "    # Load saved model\n",
    "    loader = tf.train.import_meta_graph(load_path + '.meta')\n",
    "    loader.restore(sess, load_path)\n",
    "\n",
    "    input_data = loaded_graph.get_tensor_by_name('input:0')\n",
    "    logits = loaded_graph.get_tensor_by_name('predictions:0')\n",
    "    target_sequence_length = loaded_graph.get_tensor_by_name('target_sequence_length:0')\n",
    "    source_sequence_length = loaded_graph.get_tensor_by_name('source_sequence_length:0')\n",
    "    keep_prob = loaded_graph.get_tensor_by_name('keep_prob:0')\n",
    "\n",
    "    translate_logits = sess.run(logits, {input_data: [translate_sentence]*batch_size,\n",
    "                                         target_sequence_length: [len(translate_sentence)*2]*batch_size,\n",
    "                                         source_sequence_length: [len(translate_sentence)]*batch_size,\n",
    "                                         keep_prob: 1.0})[0]\n",
    "\n",
    "print('Input')\n",
    "print('  Word Ids:      {}'.format([i for i in translate_sentence]))\n",
    "print('  English Words: {}'.format([source_int_to_vocab[i] for i in translate_sentence]))\n",
    "\n",
    "print('\\nPrediction')\n",
    "print('  Word Ids:      {}'.format([i for i in translate_logits]))\n",
    "print('  French Words: {}'.format(\" \".join([target_int_to_vocab[i] for i in translate_logits])))\n"
   ]
  },
  {
   "cell_type": "markdown",
   "metadata": {},
   "source": [
    "## Imperfect Translation\n",
    "You might notice that some sentences translate better than others.  Since the dataset you're using only has a vocabulary of 227 English words of the thousands that you use, you're only going to see good results using these words.  For this project, you don't need a perfect translation. However, if you want to create a better translation model, you'll need better data.\n",
    "\n",
    "You can train on the [WMT10 French-English corpus](http://www.statmt.org/wmt10/training-giga-fren.tar).  This dataset has more vocabulary and richer in topics discussed.  However, this will take you days to train, so make sure you've a GPU and the neural network is performing well on dataset we provided.  Just make sure you play with the WMT10 corpus after you've submitted this project.\n",
    "## Submitting This Project\n",
    "When submitting this project, make sure to run all the cells before saving the notebook. Save the notebook file as \"dlnd_language_translation.ipynb\" and save it as a HTML file under \"File\" -> \"Download as\". Include the \"helper.py\" and \"problem_unittests.py\" files in your submission."
   ]
  }
 ],
 "metadata": {
  "anaconda-cloud": {},
  "kernelspec": {
   "display_name": "Python [conda env:tensorflow11]",
   "language": "python",
   "name": "conda-env-tensorflow11-py"
  },
  "language_info": {
   "codemirror_mode": {
    "name": "ipython",
    "version": 3
   },
   "file_extension": ".py",
   "mimetype": "text/x-python",
   "name": "python",
   "nbconvert_exporter": "python",
   "pygments_lexer": "ipython3",
   "version": "3.5.3"
  }
 },
 "nbformat": 4,
 "nbformat_minor": 1
}
